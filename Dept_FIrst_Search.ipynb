{
 "cells": [
  {
   "cell_type": "code",
   "execution_count": 17,
   "metadata": {},
   "outputs": [
    {
     "name": "stdout",
     "output_type": "stream",
     "text": [
      "Inorder Traversal\n",
      "8\n",
      "2\n",
      "7\n",
      "1\n",
      "4\n",
      "5\n",
      "6\n",
      "Preorder Traversal\n",
      "1\n",
      "2\n",
      "8\n",
      "7\n",
      "5\n",
      "4\n",
      "6\n",
      "Postorder Traversal\n",
      "8\n",
      "7\n",
      "2\n",
      "4\n",
      "6\n",
      "5\n",
      "1\n"
     ]
    }
   ],
   "source": [
    "class Node:\n",
    "    def __init__(self,key):\n",
    "        self.right=None\n",
    "        self.left=None\n",
    "        self.key=key\n",
    "def inorder(root):   #left->Root->Right\n",
    "    if root:\n",
    "        inorder(root.left)\n",
    "        print(root.key),\n",
    "        inorder(root.right)\n",
    "def preorder(root):  #root->Left->right\n",
    "    if root:\n",
    "        print(root.key)\n",
    "        preorder(root.left),\n",
    "        preorder(root.right)\n",
    "def postorder(root):   #left->right->root\n",
    "    if root:\n",
    "        postorder(root.left)\n",
    "        postorder(root.right),\n",
    "        print(root.key)\n",
    "        \n",
    "            \n",
    "#Tree structure will be like\n",
    "#            1\n",
    "#           / \\\n",
    "#          2   5\n",
    "#         / \\ / \\\n",
    "#        8  7 4  6   \n",
    "    \n",
    "root=Node(1)\n",
    "root.left=Node(2)\n",
    "root.right=Node(5)\n",
    "root.left.left=Node(8)\n",
    "root.left.right=Node(7)\n",
    "root.right.left=Node(4)\n",
    "root.right.right=Node(6)\n",
    "print(\"Inorder Traversal\")\n",
    "inorder(root)\n",
    "print(\"Preorder Traversal\")\n",
    "preorder(root)\n",
    "print(\"Postorder Traversal\")\n",
    "postorder(root)\n",
    "            "
   ]
  },
  {
   "cell_type": "code",
   "execution_count": null,
   "metadata": {},
   "outputs": [],
   "source": []
  },
  {
   "cell_type": "code",
   "execution_count": null,
   "metadata": {},
   "outputs": [],
   "source": []
  }
 ],
 "metadata": {
  "kernelspec": {
   "display_name": "Python 3",
   "language": "python",
   "name": "python3"
  },
  "language_info": {
   "codemirror_mode": {
    "name": "ipython",
    "version": 3
   },
   "file_extension": ".py",
   "mimetype": "text/x-python",
   "name": "python",
   "nbconvert_exporter": "python",
   "pygments_lexer": "ipython3",
   "version": "3.6.9"
  }
 },
 "nbformat": 4,
 "nbformat_minor": 2
}
